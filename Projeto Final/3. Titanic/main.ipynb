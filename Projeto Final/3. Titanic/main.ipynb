{
 "cells": [
  {
   "cell_type": "markdown",
   "metadata": {},
   "source": [
    "# Imports"
   ]
  },
  {
   "cell_type": "code",
   "execution_count": 105,
   "metadata": {},
   "outputs": [],
   "source": [
    "import pandas as pd\n",
    "import numpy as np\n",
    "from sklearn.model_selection import StratifiedShuffleSplit\n",
    "import math\n",
    "import seaborn as sns\n",
    "import matplotlib.pyplot as plt\n",
    "%matplotlib inline\n",
    "sns.set() # setting seaborn default for plots"
   ]
  },
  {
   "cell_type": "markdown",
   "metadata": {},
   "source": [
    "## Extract data\n",
    "\n",
    "### Variable Dictionary \n",
    "\n",
    "                               \n",
    "**survived**: Survived the crash                                                       \n",
    "**pclass**:   Ticket Class                 *1* = 1st, *2* = 2nd, *3* = 3nd                     \n",
    "**sex**:      Sex                                                  \n",
    "**age**:      Age in years                                                          \n",
    "**sibsp**:    # of siblings/spouses aboard                                                                                     \n",
    "**parch**:    # of parents/children aboard                                                                                     \n",
    "**fare**:     Passenger fare                                                                                     \n",
    "**ticket**:   Ticket number                                                              \n",
    "**cabin**:    Cabin number                                                               \n",
    "**alive**:    Alive today                  \n",
    "**alone**:    Was alone"
   ]
  },
  {
   "cell_type": "code",
   "execution_count": 106,
   "metadata": {},
   "outputs": [
    {
     "data": {
      "text/html": [
       "<div>\n",
       "<style scoped>\n",
       "    .dataframe tbody tr th:only-of-type {\n",
       "        vertical-align: middle;\n",
       "    }\n",
       "\n",
       "    .dataframe tbody tr th {\n",
       "        vertical-align: top;\n",
       "    }\n",
       "\n",
       "    .dataframe thead th {\n",
       "        text-align: right;\n",
       "    }\n",
       "</style>\n",
       "<table border=\"1\" class=\"dataframe\">\n",
       "  <thead>\n",
       "    <tr style=\"text-align: right;\">\n",
       "      <th></th>\n",
       "      <th>survived</th>\n",
       "      <th>pclass</th>\n",
       "      <th>sex</th>\n",
       "      <th>age</th>\n",
       "      <th>sibsp</th>\n",
       "      <th>parch</th>\n",
       "      <th>fare</th>\n",
       "      <th>adult_male</th>\n",
       "      <th>alone</th>\n",
       "    </tr>\n",
       "  </thead>\n",
       "  <tbody>\n",
       "    <tr>\n",
       "      <th>0</th>\n",
       "      <td>0.0</td>\n",
       "      <td>3.0</td>\n",
       "      <td>0.0</td>\n",
       "      <td>0.271174</td>\n",
       "      <td>1.0</td>\n",
       "      <td>0.0</td>\n",
       "      <td>0.014151</td>\n",
       "      <td>1.0</td>\n",
       "      <td>0.0</td>\n",
       "    </tr>\n",
       "    <tr>\n",
       "      <th>1</th>\n",
       "      <td>1.0</td>\n",
       "      <td>1.0</td>\n",
       "      <td>1.0</td>\n",
       "      <td>0.472229</td>\n",
       "      <td>1.0</td>\n",
       "      <td>0.0</td>\n",
       "      <td>0.139136</td>\n",
       "      <td>0.0</td>\n",
       "      <td>0.0</td>\n",
       "    </tr>\n",
       "    <tr>\n",
       "      <th>2</th>\n",
       "      <td>1.0</td>\n",
       "      <td>3.0</td>\n",
       "      <td>1.0</td>\n",
       "      <td>0.321438</td>\n",
       "      <td>0.0</td>\n",
       "      <td>0.0</td>\n",
       "      <td>0.015469</td>\n",
       "      <td>0.0</td>\n",
       "      <td>1.0</td>\n",
       "    </tr>\n",
       "    <tr>\n",
       "      <th>3</th>\n",
       "      <td>1.0</td>\n",
       "      <td>1.0</td>\n",
       "      <td>1.0</td>\n",
       "      <td>0.434531</td>\n",
       "      <td>1.0</td>\n",
       "      <td>0.0</td>\n",
       "      <td>0.103644</td>\n",
       "      <td>0.0</td>\n",
       "      <td>0.0</td>\n",
       "    </tr>\n",
       "    <tr>\n",
       "      <th>4</th>\n",
       "      <td>0.0</td>\n",
       "      <td>3.0</td>\n",
       "      <td>0.0</td>\n",
       "      <td>0.434531</td>\n",
       "      <td>0.0</td>\n",
       "      <td>0.0</td>\n",
       "      <td>0.015713</td>\n",
       "      <td>1.0</td>\n",
       "      <td>1.0</td>\n",
       "    </tr>\n",
       "    <tr>\n",
       "      <th>...</th>\n",
       "      <td>...</td>\n",
       "      <td>...</td>\n",
       "      <td>...</td>\n",
       "      <td>...</td>\n",
       "      <td>...</td>\n",
       "      <td>...</td>\n",
       "      <td>...</td>\n",
       "      <td>...</td>\n",
       "      <td>...</td>\n",
       "    </tr>\n",
       "    <tr>\n",
       "      <th>886</th>\n",
       "      <td>0.0</td>\n",
       "      <td>2.0</td>\n",
       "      <td>0.0</td>\n",
       "      <td>0.334004</td>\n",
       "      <td>0.0</td>\n",
       "      <td>0.0</td>\n",
       "      <td>0.025374</td>\n",
       "      <td>1.0</td>\n",
       "      <td>1.0</td>\n",
       "    </tr>\n",
       "    <tr>\n",
       "      <th>887</th>\n",
       "      <td>1.0</td>\n",
       "      <td>1.0</td>\n",
       "      <td>1.0</td>\n",
       "      <td>0.233476</td>\n",
       "      <td>0.0</td>\n",
       "      <td>0.0</td>\n",
       "      <td>0.058556</td>\n",
       "      <td>0.0</td>\n",
       "      <td>1.0</td>\n",
       "    </tr>\n",
       "    <tr>\n",
       "      <th>888</th>\n",
       "      <td>0.0</td>\n",
       "      <td>3.0</td>\n",
       "      <td>1.0</td>\n",
       "      <td>0.371701</td>\n",
       "      <td>1.0</td>\n",
       "      <td>2.0</td>\n",
       "      <td>0.045771</td>\n",
       "      <td>0.0</td>\n",
       "      <td>0.0</td>\n",
       "    </tr>\n",
       "    <tr>\n",
       "      <th>889</th>\n",
       "      <td>1.0</td>\n",
       "      <td>1.0</td>\n",
       "      <td>0.0</td>\n",
       "      <td>0.321438</td>\n",
       "      <td>0.0</td>\n",
       "      <td>0.0</td>\n",
       "      <td>0.058556</td>\n",
       "      <td>1.0</td>\n",
       "      <td>1.0</td>\n",
       "    </tr>\n",
       "    <tr>\n",
       "      <th>890</th>\n",
       "      <td>0.0</td>\n",
       "      <td>3.0</td>\n",
       "      <td>0.0</td>\n",
       "      <td>0.396833</td>\n",
       "      <td>0.0</td>\n",
       "      <td>0.0</td>\n",
       "      <td>0.015127</td>\n",
       "      <td>1.0</td>\n",
       "      <td>1.0</td>\n",
       "    </tr>\n",
       "  </tbody>\n",
       "</table>\n",
       "<p>891 rows × 9 columns</p>\n",
       "</div>"
      ],
      "text/plain": [
       "     survived  pclass  sex       age  sibsp  parch      fare  adult_male  \\\n",
       "0         0.0     3.0  0.0  0.271174    1.0    0.0  0.014151         1.0   \n",
       "1         1.0     1.0  1.0  0.472229    1.0    0.0  0.139136         0.0   \n",
       "2         1.0     3.0  1.0  0.321438    0.0    0.0  0.015469         0.0   \n",
       "3         1.0     1.0  1.0  0.434531    1.0    0.0  0.103644         0.0   \n",
       "4         0.0     3.0  0.0  0.434531    0.0    0.0  0.015713         1.0   \n",
       "..        ...     ...  ...       ...    ...    ...       ...         ...   \n",
       "886       0.0     2.0  0.0  0.334004    0.0    0.0  0.025374         1.0   \n",
       "887       1.0     1.0  1.0  0.233476    0.0    0.0  0.058556         0.0   \n",
       "888       0.0     3.0  1.0  0.371701    1.0    2.0  0.045771         0.0   \n",
       "889       1.0     1.0  0.0  0.321438    0.0    0.0  0.058556         1.0   \n",
       "890       0.0     3.0  0.0  0.396833    0.0    0.0  0.015127         1.0   \n",
       "\n",
       "     alone  \n",
       "0      0.0  \n",
       "1      0.0  \n",
       "2      1.0  \n",
       "3      0.0  \n",
       "4      1.0  \n",
       "..     ...  \n",
       "886    1.0  \n",
       "887    1.0  \n",
       "888    0.0  \n",
       "889    1.0  \n",
       "890    1.0  \n",
       "\n",
       "[891 rows x 9 columns]"
      ]
     },
     "execution_count": 106,
     "metadata": {},
     "output_type": "execute_result"
    }
   ],
   "source": [
    "titanic=pd.DataFrame(sns.load_dataset('titanic'))\n",
    "titanic.drop(['class','who', 'deck','embark_town','alive','embarked'],axis=1,inplace=True)\n",
    "\n",
    "# Casting and formatting\n",
    "\n",
    "titanic['sex']=titanic['sex'].apply(lambda x: 1 if (x=='female') else 0)\n",
    "titanic['age'] = titanic['age'].fillna(value=round(titanic['age'].mean()))\n",
    "titanic = titanic.astype(float)\n",
    "\n",
    "# Normalizing\n",
    "\n",
    "def normalize(arr):\n",
    "    arr = np.array(arr)\n",
    "    M = arr.max()\n",
    "    m = arr.min()\n",
    "    arr_ = np.zeros(len(arr))\n",
    "    for i in range(len(arr_)):\n",
    "        arr_[i] = float(arr[i]-m)/float(M-m)\n",
    "    return arr_\n",
    "\n",
    "titanic['age'] = normalize(titanic['age'])\n",
    "titanic['fare'] = normalize(titanic['fare'])\n",
    "titanic"
   ]
  },
  {
   "cell_type": "markdown",
   "metadata": {},
   "source": [
    "## Analysing data"
   ]
  },
  {
   "cell_type": "markdown",
   "metadata": {},
   "source": [
    "### Statistics"
   ]
  },
  {
   "cell_type": "code",
   "execution_count": 107,
   "metadata": {},
   "outputs": [
    {
     "name": "stderr",
     "output_type": "stream",
     "text": [
      "C:\\Users\\lucas\\AppData\\Local\\Programs\\Python\\Python36\\lib\\site-packages\\seaborn\\categorical.py:3666: UserWarning: The `factorplot` function has been renamed to `catplot`. The original name will be removed in a future release. Please update your code. Note that the default `kind` in `factorplot` (`'point'`) has changed `'strip'` in `catplot`.\n",
      "  warnings.warn(msg)\n"
     ]
    },
    {
     "data": {
      "image/png": "[encoded data removed]",
      "text/plain": [
       "<Figure size 360x360 with 1 Axes>"
      ]
     },
     "metadata": {},
     "output_type": "display_data"
    }
   ],
   "source": [
    "sns.factorplot('survived', data=titanic, kind='count')\n",
    "plt.title('Count of Passengers who survived');"
   ]
  },
  {
   "cell_type": "code",
   "execution_count": 108,
   "metadata": {},
   "outputs": [
    {
     "data": {
      "text/plain": [
       "<matplotlib.axes._subplots.AxesSubplot at 0x286e5c28eb8>"
      ]
     },
     "execution_count": 108,
     "metadata": {},
     "output_type": "execute_result"
    },
    {
     "data": {
      "image/png": "[encoded data removed]",
      "text/plain": [
       "<Figure size 432x288 with 1 Axes>"
      ]
     },
     "metadata": {},
     "output_type": "display_data"
    }
   ],
   "source": [
    "sns.boxplot(x='survived',y='age',data=titanic)"
   ]
  },
  {
   "cell_type": "markdown",
   "metadata": {},
   "source": [
    "### Distribution os survivers"
   ]
  },
  {
   "cell_type": "code",
   "execution_count": 109,
   "metadata": {},
   "outputs": [
    {
     "data": {
      "image/png": "[encoded data removed]",
      "text/plain": [
       "<Figure size 432x288 with 1 Axes>"
      ]
     },
     "metadata": {},
     "output_type": "display_data"
    }
   ],
   "source": [
    "sns.barplot(x='pclass',y='survived',hue='sex',data=titanic);"
   ]
  },
  {
   "cell_type": "code",
   "execution_count": 110,
   "metadata": {},
   "outputs": [
    {
     "data": {
      "image/png": "[encoded data removed]",
      "text/plain": [
       "<Figure size 432x288 with 1 Axes>"
      ]
     },
     "metadata": {},
     "output_type": "display_data"
    }
   ],
   "source": [
    "sns.barplot(x='adult_male',y='survived',data=titanic);"
   ]
  },
  {
   "cell_type": "markdown",
   "metadata": {},
   "source": [
    "## Correlation"
   ]
  },
  {
   "cell_type": "code",
   "execution_count": 111,
   "metadata": {},
   "outputs": [
    {
     "data": {
      "image/png": "[encoded data removed]",
      "text/plain": [
       "<Figure size 432x288 with 2 Axes>"
      ]
     },
     "metadata": {},
     "output_type": "display_data"
    }
   ],
   "source": [
    "sns.heatmap(titanic.corr());"
   ]
  },
  {
   "cell_type": "markdown",
   "metadata": {},
   "source": [
    "# Machine learning"
   ]
  },
  {
   "cell_type": "code",
   "execution_count": 129,
   "metadata": {},
   "outputs": [
    {
     "name": "stdout",
     "output_type": "stream",
     "text": [
      "precision = 0.9230769230769231 recall = 0.46601941747572817 f1 = 0.6193548387096774\n",
      "precision = 0.7263157894736842 recall = 0.6699029126213593 f1 = 0.6969696969696969\n",
      "precision = 0.8333333333333334 recall = 0.6310679611650486 f1 = 0.718232044198895\n",
      "precision = 0.9215686274509803 recall = 0.4563106796116505 f1 = 0.6103896103896104\n",
      "precision = 0.7951807228915663 recall = 0.6407766990291263 f1 = 0.7096774193548387\n",
      "precision = 0.8813559322033898 recall = 0.5048543689320388 f1 = 0.6419753086419752\n",
      "precision = 0.8676470588235294 recall = 0.5728155339805825 f1 = 0.6900584795321637\n",
      "precision = 0.9607843137254902 recall = 0.47572815533980584 f1 = 0.6363636363636364\n",
      "precision = 0.7790697674418605 recall = 0.6504854368932039 f1 = 0.708994708994709\n",
      "precision = 0.9285714285714286 recall = 0.5048543689320388 f1 = 0.6540880503144654\n",
      "avg precision = 0.8616903896992186 avg recall = 0.5572815533980584 avg f1 = 0.6686103793469668\n"
     ]
    }
   ],
   "source": [
    "class logistic_regression:\n",
    "    \n",
    "    def __init__(self,N,p,tol,treshold,verbose=False):\n",
    "        self.N = N  #number of iterations (Hyperparameter)\n",
    "        self.p = p #alpha(Hyperparameter) \n",
    "        self.tol = tol\n",
    "        self.treshold = treshold\n",
    "        self.precision = abs(math.floor(math.log(self.treshold, 10)))\n",
    "        self.verbose = verbose\n",
    "        \n",
    "    def sigmoid(self,a):\n",
    "        return(1/(1+np.exp(-a)))    #sigmoid (Link Fucntion)\n",
    "    \n",
    "    def a(self,x,w):\n",
    "        a = w[0]\n",
    "        a += np.dot(w[1:],x)\n",
    "        \n",
    "        return a\n",
    "        \n",
    "    def cost(self,y,y_pred):\n",
    "        n = len(y)\n",
    "        cost = float(-1/n)*(np.dot(y,np.log(y_pred))+np.dot((1-y),np.log(1-y_pred)))\n",
    "        return round(cost,self.precision)\n",
    "                       \n",
    "    def fit(self,x,y): #(X-data for training, y - Output)\n",
    "        x = np.array(x).astype(float)\n",
    "        y = np.array(y).astype(float)\n",
    "        n=x.shape[0] #number of samples of x and y\n",
    "        m=x.shape[1] #number of parameters (columns) of x\n",
    "        self.w=np.ones(m+1)/10  #Initializing the weights vector\n",
    "        count = 0\n",
    "        dw = np.ones(m+1)\n",
    "        cost = 1\n",
    "        while count < self.N and cost > self.tol:\n",
    "            y_pred = np.zeros(n)\n",
    "            for i in range(n):\n",
    "                x_row = x[i]\n",
    "                a = self.a(x_row,self.w)\n",
    "                y_pred[i] = self.sigmoid(a)\n",
    "                dw[1:] = (y_pred[i]-y[i])*x_row\n",
    "                dw[0] = y_pred[i]-y[i]\n",
    "                self.w = self.w - self.p*dw\n",
    "                \n",
    "            cost = self.cost(y,y_pred)\n",
    "            if self.verbose:\n",
    "                print(f'cost={cost}')\n",
    "            count += 1\n",
    "            \n",
    "    def predict(self,x):\n",
    "        x = np.array(x)\n",
    "        aux = self.w[0]*np.ones(len(x))\n",
    "        y_pred = np.dot(x,self.w[1:])\n",
    "        y_pred+=aux\n",
    "        \n",
    "        def convert(x):\n",
    "            if x >= self.treshold:\n",
    "                return 1.\n",
    "            else:\n",
    "                return .0\n",
    "            \n",
    "        y_pred = list(map(convert,y_pred))\n",
    "        \n",
    "        return y_pred\n",
    "    \n",
    "    def stats(self,y,y_pred):\n",
    "        tp = tn = fp = fn = 0.\n",
    "        y = np.array(y).astype(int)\n",
    "        y_pred = np.array(y_pred).astype(int)\n",
    "        \n",
    "        for i in range(len(y)):\n",
    "            if y[i] == 1. and y_pred[i] == 1.:\n",
    "                tp+=1\n",
    "            elif y[i] == 0. and y_pred[i] == 0.:\n",
    "                tn+=1\n",
    "            elif y[i] == 1. and y_pred[i] == 0.:\n",
    "                fn+=1\n",
    "            else:\n",
    "                fp+=1\n",
    "        \n",
    "        precision = tp/(tp+fp)\n",
    "        recall = tp/(tp+fn)\n",
    "        f1 = 2*(precision*recall)/(precision+recall)\n",
    "        return precision,recall,f1\n"
   ]
  },
  {
   "cell_type": "markdown",
   "metadata": {},
   "source": [
    "## Split data in multiple batches of `train` and `test`. Y(target parameter) is `survived`\n",
    "## This is called cross-fold validation"
   ]
  },
  {
   "cell_type": "code",
   "execution_count": 130,
   "metadata": {},
   "outputs": [
    {
     "name": "stdout",
     "output_type": "stream",
     "text": [
      "precision = 0.9230769230769231 recall = 0.46601941747572817 f1 = 0.6193548387096774\n",
      "precision = 0.7263157894736842 recall = 0.6699029126213593 f1 = 0.6969696969696969\n",
      "precision = 0.8333333333333334 recall = 0.6310679611650486 f1 = 0.718232044198895\n",
      "precision = 0.9215686274509803 recall = 0.4563106796116505 f1 = 0.6103896103896104\n",
      "precision = 0.7951807228915663 recall = 0.6407766990291263 f1 = 0.7096774193548387\n",
      "precision = 0.8813559322033898 recall = 0.5048543689320388 f1 = 0.6419753086419752\n",
      "precision = 0.8676470588235294 recall = 0.5728155339805825 f1 = 0.6900584795321637\n",
      "precision = 0.9607843137254902 recall = 0.47572815533980584 f1 = 0.6363636363636364\n",
      "precision = 0.7790697674418605 recall = 0.6504854368932039 f1 = 0.708994708994709\n",
      "precision = 0.9285714285714286 recall = 0.5048543689320388 f1 = 0.6540880503144654\n",
      "avg precision = 0.8616903896992186 avg recall = 0.5572815533980584 avg f1 = 0.6686103793469668\n"
     ]
    }
   ],
   "source": [
    "n_splits = 10\n",
    "test_size = 0.3\n",
    "\n",
    "sss = StratifiedShuffleSplit(n_splits=n_splits, \n",
    "                             test_size=test_size, \n",
    "                             random_state=42)\n",
    "X = titanic.drop(['survived'],axis=1)\n",
    "y = titanic['survived']\n",
    "\n",
    "lr = logistic_regression(50,.1,1e-7,.5)\n",
    "precisions = []\n",
    "recalls = []\n",
    "f1s = []\n",
    "\n",
    "for train_index, test_index in sss.split(X, y):\n",
    "    X_train = X.iloc[train_index]\n",
    "    y_train = y.iloc[train_index]\n",
    "\n",
    "    X_test = X.iloc[test_index]\n",
    "    y_test = y.iloc[test_index]\n",
    "\n",
    "    lr.fit(X_train,y_train)\n",
    "    y_pred = lr.predict(X_test)\n",
    "    precision,recall,f1 = lr.stats(y_test,y_pred)\n",
    "    precisions.append(precision)\n",
    "    recalls.append(recall)\n",
    "    f1s.append(f1)\n",
    "    print(f'precision = {precision} recall = {recall} f1 = {f1}')\n",
    "\n",
    "precision = sum(precisions)/len(precisions)\n",
    "recall = sum(recalls)/len(recalls)\n",
    "f1 = sum(f1s)/len(f1s)\n",
    "\n",
    "print(f'avg precision = {precision} avg recall = {recall} avg f1 = {f1}')"
   ]
  }
 ],
 "metadata": {
  "kernelspec": {
   "display_name": "Python 3.6.7 64-bit",
   "language": "python",
   "name": "python36764bitae56fdbcc1594148b699def9b739fd1e"
  },
  "language_info": {
   "codemirror_mode": {
    "name": "ipython",
    "version": 3
   },
   "file_extension": ".py",
   "mimetype": "text/x-python",
   "name": "python",
   "nbconvert_exporter": "python",
   "pygments_lexer": "ipython3",
   "version": "3.6.7"
  }
 },
 "nbformat": 4,
 "nbformat_minor": 2
}
