{
 "cells": [
  {
   "cell_type": "markdown",
   "metadata": {},
   "source": [
    "# Imports"
   ]
  },
  {
   "cell_type": "code",
   "execution_count": 1,
   "metadata": {},
   "outputs": [],
   "source": [
    "import pandas as pd\n",
    "import numpy as np\n",
    "from sklearn.model_selection import StratifiedShuffleSplit\n",
    "from sklearn.linear_model import LogisticRegression\n",
    "from sklearn.metrics import f1_score as f1s\n",
    "import math\n",
    "import seaborn as sns\n",
    "import matplotlib.pyplot as plt\n",
    "from mpl_toolkits.mplot3d import Axes3D\n",
    "%matplotlib inline\n",
    "sns.set() # setting seaborn default for plots"
   ]
  },
  {
   "cell_type": "markdown",
   "metadata": {},
   "source": [
    "## Extract data\n",
    "\n",
    "### Variable Dictionary \n",
    "\n",
    "                               \n",
    "**survived**: Survived the crash                                                       \n",
    "**pclass**:   Ticket Class                 *1* = 1st, *2* = 2nd, *3* = 3nd                     \n",
    "**sex**:      Sex                                                  \n",
    "**age**:      Age in years                                                          \n",
    "**sibsp**:    # of siblings/spouses aboard                                                                                     \n",
    "**parch**:    # of parents/children aboard                                                                                     \n",
    "**fare**:     Passenger fare                                                                                     \n",
    "**ticket**:   Ticket number                                                              \n",
    "**cabin**:    Cabin number                                                               \n",
    "**alive**:    Alive today                  \n",
    "**alone**:    Was alone"
   ]
  },
  {
   "cell_type": "code",
   "execution_count": 10,
   "metadata": {},
   "outputs": [
    {
     "data": {
      "text/html": [
       "<div>\n",
       "<style scoped>\n",
       "    .dataframe tbody tr th:only-of-type {\n",
       "        vertical-align: middle;\n",
       "    }\n",
       "\n",
       "    .dataframe tbody tr th {\n",
       "        vertical-align: top;\n",
       "    }\n",
       "\n",
       "    .dataframe thead th {\n",
       "        text-align: right;\n",
       "    }\n",
       "</style>\n",
       "<table border=\"1\" class=\"dataframe\">\n",
       "  <thead>\n",
       "    <tr style=\"text-align: right;\">\n",
       "      <th></th>\n",
       "      <th>survived</th>\n",
       "      <th>pclass</th>\n",
       "      <th>sex</th>\n",
       "      <th>age</th>\n",
       "      <th>sibsp</th>\n",
       "      <th>parch</th>\n",
       "      <th>fare</th>\n",
       "      <th>adult_male</th>\n",
       "      <th>alone</th>\n",
       "    </tr>\n",
       "  </thead>\n",
       "  <tbody>\n",
       "    <tr>\n",
       "      <th>0</th>\n",
       "      <td>0.0</td>\n",
       "      <td>3.0</td>\n",
       "      <td>0.0</td>\n",
       "      <td>0.271174</td>\n",
       "      <td>1.0</td>\n",
       "      <td>0.0</td>\n",
       "      <td>0.014151</td>\n",
       "      <td>1.0</td>\n",
       "      <td>0.0</td>\n",
       "    </tr>\n",
       "    <tr>\n",
       "      <th>1</th>\n",
       "      <td>1.0</td>\n",
       "      <td>1.0</td>\n",
       "      <td>1.0</td>\n",
       "      <td>0.472229</td>\n",
       "      <td>1.0</td>\n",
       "      <td>0.0</td>\n",
       "      <td>0.139136</td>\n",
       "      <td>0.0</td>\n",
       "      <td>0.0</td>\n",
       "    </tr>\n",
       "    <tr>\n",
       "      <th>2</th>\n",
       "      <td>1.0</td>\n",
       "      <td>3.0</td>\n",
       "      <td>1.0</td>\n",
       "      <td>0.321438</td>\n",
       "      <td>0.0</td>\n",
       "      <td>0.0</td>\n",
       "      <td>0.015469</td>\n",
       "      <td>0.0</td>\n",
       "      <td>1.0</td>\n",
       "    </tr>\n",
       "    <tr>\n",
       "      <th>3</th>\n",
       "      <td>1.0</td>\n",
       "      <td>1.0</td>\n",
       "      <td>1.0</td>\n",
       "      <td>0.434531</td>\n",
       "      <td>1.0</td>\n",
       "      <td>0.0</td>\n",
       "      <td>0.103644</td>\n",
       "      <td>0.0</td>\n",
       "      <td>0.0</td>\n",
       "    </tr>\n",
       "    <tr>\n",
       "      <th>4</th>\n",
       "      <td>0.0</td>\n",
       "      <td>3.0</td>\n",
       "      <td>0.0</td>\n",
       "      <td>0.434531</td>\n",
       "      <td>0.0</td>\n",
       "      <td>0.0</td>\n",
       "      <td>0.015713</td>\n",
       "      <td>1.0</td>\n",
       "      <td>1.0</td>\n",
       "    </tr>\n",
       "    <tr>\n",
       "      <th>...</th>\n",
       "      <td>...</td>\n",
       "      <td>...</td>\n",
       "      <td>...</td>\n",
       "      <td>...</td>\n",
       "      <td>...</td>\n",
       "      <td>...</td>\n",
       "      <td>...</td>\n",
       "      <td>...</td>\n",
       "      <td>...</td>\n",
       "    </tr>\n",
       "    <tr>\n",
       "      <th>886</th>\n",
       "      <td>0.0</td>\n",
       "      <td>2.0</td>\n",
       "      <td>0.0</td>\n",
       "      <td>0.334004</td>\n",
       "      <td>0.0</td>\n",
       "      <td>0.0</td>\n",
       "      <td>0.025374</td>\n",
       "      <td>1.0</td>\n",
       "      <td>1.0</td>\n",
       "    </tr>\n",
       "    <tr>\n",
       "      <th>887</th>\n",
       "      <td>1.0</td>\n",
       "      <td>1.0</td>\n",
       "      <td>1.0</td>\n",
       "      <td>0.233476</td>\n",
       "      <td>0.0</td>\n",
       "      <td>0.0</td>\n",
       "      <td>0.058556</td>\n",
       "      <td>0.0</td>\n",
       "      <td>1.0</td>\n",
       "    </tr>\n",
       "    <tr>\n",
       "      <th>888</th>\n",
       "      <td>0.0</td>\n",
       "      <td>3.0</td>\n",
       "      <td>1.0</td>\n",
       "      <td>0.371701</td>\n",
       "      <td>1.0</td>\n",
       "      <td>2.0</td>\n",
       "      <td>0.045771</td>\n",
       "      <td>0.0</td>\n",
       "      <td>0.0</td>\n",
       "    </tr>\n",
       "    <tr>\n",
       "      <th>889</th>\n",
       "      <td>1.0</td>\n",
       "      <td>1.0</td>\n",
       "      <td>0.0</td>\n",
       "      <td>0.321438</td>\n",
       "      <td>0.0</td>\n",
       "      <td>0.0</td>\n",
       "      <td>0.058556</td>\n",
       "      <td>1.0</td>\n",
       "      <td>1.0</td>\n",
       "    </tr>\n",
       "    <tr>\n",
       "      <th>890</th>\n",
       "      <td>0.0</td>\n",
       "      <td>3.0</td>\n",
       "      <td>0.0</td>\n",
       "      <td>0.396833</td>\n",
       "      <td>0.0</td>\n",
       "      <td>0.0</td>\n",
       "      <td>0.015127</td>\n",
       "      <td>1.0</td>\n",
       "      <td>1.0</td>\n",
       "    </tr>\n",
       "  </tbody>\n",
       "</table>\n",
       "<p>891 rows × 9 columns</p>\n",
       "</div>"
      ],
      "text/plain": [
       "     survived  pclass  sex       age  sibsp  parch      fare  adult_male  \\\n",
       "0         0.0     3.0  0.0  0.271174    1.0    0.0  0.014151         1.0   \n",
       "1         1.0     1.0  1.0  0.472229    1.0    0.0  0.139136         0.0   \n",
       "2         1.0     3.0  1.0  0.321438    0.0    0.0  0.015469         0.0   \n",
       "3         1.0     1.0  1.0  0.434531    1.0    0.0  0.103644         0.0   \n",
       "4         0.0     3.0  0.0  0.434531    0.0    0.0  0.015713         1.0   \n",
       "..        ...     ...  ...       ...    ...    ...       ...         ...   \n",
       "886       0.0     2.0  0.0  0.334004    0.0    0.0  0.025374         1.0   \n",
       "887       1.0     1.0  1.0  0.233476    0.0    0.0  0.058556         0.0   \n",
       "888       0.0     3.0  1.0  0.371701    1.0    2.0  0.045771         0.0   \n",
       "889       1.0     1.0  0.0  0.321438    0.0    0.0  0.058556         1.0   \n",
       "890       0.0     3.0  0.0  0.396833    0.0    0.0  0.015127         1.0   \n",
       "\n",
       "     alone  \n",
       "0      0.0  \n",
       "1      0.0  \n",
       "2      1.0  \n",
       "3      0.0  \n",
       "4      1.0  \n",
       "..     ...  \n",
       "886    1.0  \n",
       "887    1.0  \n",
       "888    0.0  \n",
       "889    1.0  \n",
       "890    1.0  \n",
       "\n",
       "[891 rows x 9 columns]"
      ]
     },
     "execution_count": 10,
     "metadata": {},
     "output_type": "execute_result"
    }
   ],
   "source": [
    "titanic=pd.DataFrame(sns.load_dataset('titanic'))\n",
    "titanic.drop(['class','who', 'deck','embark_town','alive','embarked'],axis=1,inplace=True)\n",
    "# Casting and formatting\n",
    "\n",
    "titanic['sex']=titanic['sex'].apply(lambda x: 1 if (x=='female') else 0)\n",
    "titanic['age'] = titanic['age'].fillna(value=round(titanic['age'].mean()))\n",
    "titanic = titanic.astype(float)\n",
    "\n",
    "# Normalizing\n",
    "\n",
    "def normalize(arr):\n",
    "    arr = np.array(arr)\n",
    "    M = arr.max()\n",
    "    m = arr.min()\n",
    "    arr_ = np.zeros(len(arr))\n",
    "    for i in range(len(arr_)):\n",
    "        arr_[i] = float(arr[i]-m)/float(M-m)\n",
    "    return arr_\n",
    "\n",
    "titanic['age'] = normalize(titanic['age'])\n",
    "titanic['fare'] = normalize(titanic['fare'])\n",
    "titanic"
   ]
  },
  {
   "cell_type": "markdown",
   "metadata": {},
   "source": [
    "## Analysing data"
   ]
  },
  {
   "cell_type": "markdown",
   "metadata": {},
   "source": [
    "### Statistics"
   ]
  },
  {
   "cell_type": "code",
   "execution_count": 4,
   "metadata": {},
   "outputs": [
    {
     "name": "stderr",
     "output_type": "stream",
     "text": [
      "C:\\Users\\lucas\\AppData\\Local\\Programs\\Python\\Python36\\lib\\site-packages\\seaborn\\categorical.py:3666: UserWarning: The `factorplot` function has been renamed to `catplot`. The original name will be removed in a future release. Please update your code. Note that the default `kind` in `factorplot` (`'point'`) has changed `'strip'` in `catplot`.\n",
      "  warnings.warn(msg)\n"
     ]
    },
    {
     "data": {
      "image/png": "[encoded data removed]",
      "text/plain": [
       "<Figure size 360x360 with 1 Axes>"
      ]
     },
     "metadata": {
      "needs_background": "light"
     },
     "output_type": "display_data"
    }
   ],
   "source": [
    "sns.factorplot('survived', data=titanic, kind='count')\n",
    "plt.title('Count of Passengers who survived');"
   ]
  },
  {
   "cell_type": "code",
   "execution_count": 5,
   "metadata": {},
   "outputs": [
    {
     "data": {
      "text/plain": [
       "<matplotlib.axes._subplots.AxesSubplot at 0x2f8f14aab38>"
      ]
     },
     "execution_count": 5,
     "metadata": {},
     "output_type": "execute_result"
    },
    {
     "data": {
      "image/png": "[encoded data removed]",
      "text/plain": [
       "<Figure size 432x288 with 1 Axes>"
      ]
     },
     "metadata": {
      "needs_background": "light"
     },
     "output_type": "display_data"
    }
   ],
   "source": [
    "sns.boxplot(x='survived',y='age',data=titanic)"
   ]
  },
  {
   "cell_type": "markdown",
   "metadata": {},
   "source": [
    "### Distribution os survivers"
   ]
  },
  {
   "cell_type": "code",
   "execution_count": 6,
   "metadata": {},
   "outputs": [
    {
     "data": {
      "image/png": "[encoded data removed]",
      "text/plain": [
       "<Figure size 432x288 with 1 Axes>"
      ]
     },
     "metadata": {
      "needs_background": "light"
     },
     "output_type": "display_data"
    }
   ],
   "source": [
    "sns.barplot(x='pclass',y='survived',hue='sex',data=titanic);"
   ]
  },
  {
   "cell_type": "code",
   "execution_count": 7,
   "metadata": {},
   "outputs": [
    {
     "data": {
      "image/png": "[encoded data removed]",
      "text/plain": [
       "<Figure size 432x288 with 1 Axes>"
      ]
     },
     "metadata": {
      "needs_background": "light"
     },
     "output_type": "display_data"
    }
   ],
   "source": [
    "sns.barplot(x='adult_male',y='survived',data=titanic);"
   ]
  },
  {
   "cell_type": "markdown",
   "metadata": {},
   "source": [
    "## Correlation"
   ]
  },
  {
   "cell_type": "code",
   "execution_count": 8,
   "metadata": {},
   "outputs": [
    {
     "data": {
      "text/plain": [
       "survived      1.000000\n",
       "pclass       -0.338481\n",
       "sex           0.543351\n",
       "age          -0.070657\n",
       "sibsp        -0.035322\n",
       "parch         0.081629\n",
       "fare          0.257307\n",
       "adult_male   -0.557080\n",
       "alone        -0.203367\n",
       "Name: survived, dtype: float64"
      ]
     },
     "execution_count": 8,
     "metadata": {},
     "output_type": "execute_result"
    },
    {
     "data": {
      "image/png": "[encoded data removed]",
      "text/plain": [
       "<Figure size 432x288 with 2 Axes>"
      ]
     },
     "metadata": {
      "needs_background": "light"
     },
     "output_type": "display_data"
    }
   ],
   "source": [
    "sns.heatmap(titanic.corr());\n",
    "titanic.corr()['survived']"
   ]
  },
  {
   "cell_type": "markdown",
   "metadata": {},
   "source": [
    "# Machine learning"
   ]
  },
  {
   "cell_type": "code",
   "execution_count": 3,
   "metadata": {},
   "outputs": [],
   "source": [
    "class logistic_regression:\n",
    "    \n",
    "    def __init__(self,N,p,tol,treshold,verbose=False):\n",
    "        self.N = N  #number of iterations (Hyperparameter)\n",
    "        self.p = p #alpha(Hyperparameter) \n",
    "        self.tol = tol\n",
    "        self.treshold = treshold\n",
    "        self.precision = abs(math.floor(math.log(self.treshold, 10)))\n",
    "        self.verbose = verbose\n",
    "        \n",
    "    def sigmoid(self,a):\n",
    "        return(1/(1+np.exp(-a)))    #sigmoid (Link Fucntion)\n",
    "    \n",
    "    def a(self,x,w):\n",
    "        a = w[0]\n",
    "        a += np.dot(w[1:],x)\n",
    "        \n",
    "        return a\n",
    "        \n",
    "    def cost(self,y,y_pred):\n",
    "        n = len(y)\n",
    "        cost = float(-1/n)*(np.dot(y,np.log(y_pred))+np.dot((1-y),np.log(1-y_pred)))\n",
    "        return round(cost,self.precision)\n",
    "                       \n",
    "    def fit(self,x,y): #(X-data for training, y - Output)\n",
    "        x = np.array(x).astype(float)\n",
    "        y = np.array(y).astype(float)\n",
    "        n=x.shape[0] #number of samples of x and y\n",
    "        m=x.shape[1] #number of parameters (columns) of x\n",
    "        self.w=np.ones(m+1)/10  #Initializing the weights vector\n",
    "        count = 0\n",
    "        dw = np.ones(m+1)\n",
    "        cost = 1\n",
    "        while count < self.N and cost > self.tol:\n",
    "            y_pred = np.zeros(n)\n",
    "            for i in range(n):\n",
    "                x_row = x[i]\n",
    "                a = self.a(x_row,self.w)\n",
    "                y_pred[i] = self.sigmoid(a)\n",
    "                dw[1:] = (y_pred[i]-y[i])*x_row\n",
    "                dw[0] = y_pred[i]-y[i]\n",
    "                self.w = self.w - self.p*dw\n",
    "                \n",
    "            cost = self.cost(y,y_pred)\n",
    "            if self.verbose:\n",
    "                print(f'cost={cost}')\n",
    "            count += 1\n",
    "            \n",
    "    def predict(self,x):\n",
    "        x = np.array(x)\n",
    "        aux = self.w[0]*np.ones(len(x))\n",
    "        a_pred = np.dot(x,self.w[1:])\n",
    "        a_pred+=aux\n",
    "        y_pred = self.sigmoid(a_pred)\n",
    "        \n",
    "        def convert(x):\n",
    "            if x >= self.treshold:\n",
    "                return 1.\n",
    "            else:\n",
    "                return .0\n",
    "            \n",
    "        y_pred_class = list(map(convert,y_pred))\n",
    "        \n",
    "        return a_pred,y_pred,y_pred_class\n",
    "    \n",
    "    def stats(self,y,y_pred,verbose=False):\n",
    "        tp = tn = fp = fn = 0.\n",
    "        y = np.array(y).astype(int)\n",
    "        y_pred = np.array(y_pred).astype(int)\n",
    "        \n",
    "        for i in range(len(y)):\n",
    "            if y[i] == 1. and y_pred[i] == 1.:\n",
    "                tp+=1\n",
    "            elif y[i] == 0. and y_pred[i] == 0.:\n",
    "                tn+=1\n",
    "            elif y[i] == 1. and y_pred[i] == 0.:\n",
    "                fn+=1\n",
    "            else:\n",
    "                fp+=1\n",
    "        \n",
    "        precision = tp/(tp+fp)\n",
    "        recall = tp/(tp+fn)\n",
    "        f1 = 2*(precision*recall)/(precision+recall)\n",
    "        if verbose:\n",
    "            print(f'precision = {precision} recall = {recall} f1 = {f1}')\n",
    "            \n",
    "        return precision,recall,f1\n"
   ]
  },
  {
   "cell_type": "markdown",
   "metadata": {},
   "source": [
    "## Split data in multiple batches of `train` and `test`. Y(target parameter) is `survived`\n",
    "## This is called cross-fold validation"
   ]
  },
  {
   "cell_type": "code",
   "execution_count": 4,
   "metadata": {},
   "outputs": [
    {
     "name": "stdout",
     "output_type": "stream",
     "text": [
      "precision = 0.9285714285714286 recall = 0.5048543689320388 f1 = 0.6540880503144654\n",
      "precision = 0.696078431372549 recall = 0.6893203883495146 f1 = 0.6926829268292684\n",
      "precision = 0.7745098039215687 recall = 0.7669902912621359 f1 = 0.7707317073170732\n",
      "precision = 0.8382352941176471 recall = 0.5533980582524272 f1 = 0.6666666666666667\n",
      "precision = 0.7752808988764045 recall = 0.6699029126213593 f1 = 0.7187500000000001\n",
      "precision = 0.8536585365853658 recall = 0.6796116504854369 f1 = 0.7567567567567567\n",
      "precision = 0.7692307692307693 recall = 0.6796116504854369 f1 = 0.7216494845360826\n",
      "precision = 0.9464285714285714 recall = 0.5145631067961165 f1 = 0.6666666666666666\n",
      "precision = 0.7802197802197802 recall = 0.6893203883495146 f1 = 0.7319587628865979\n",
      "precision = 0.7777777777777778 recall = 0.6116504854368932 f1 = 0.6847826086956521\n",
      "avg precision = 0.8139991292101862 avg recall = 0.6359223300970875 avg f1 = 0.7064733630669231\n"
     ]
    }
   ],
   "source": [
    "n_splits = 10\n",
    "test_size = 0.3\n",
    "\n",
    "sss = StratifiedShuffleSplit(n_splits=n_splits, \n",
    "                             test_size=test_size, \n",
    "                             random_state=42)\n",
    "\n",
    "X = titanic.drop(['survived'],axis=1)\n",
    "y = titanic['survived']\n",
    "\n",
    "lr = logistic_regression(50,.1,1e-7,.5)\n",
    "precisions = []\n",
    "recalls = []\n",
    "f1s = []\n",
    "\n",
    "for train_index, test_index in sss.split(X, y):\n",
    "    X_train = X.iloc[train_index]\n",
    "    y_train = y.iloc[train_index]\n",
    "\n",
    "    X_test = X.iloc[test_index]\n",
    "    y_test = y.iloc[test_index]\n",
    "\n",
    "    lr.fit(X_train,y_train)\n",
    "    a_pred,y_pred,y_pred_class = lr.predict(X_test)\n",
    "    precision,recall,f1 = lr.stats(y_test,y_pred_class,True)\n",
    "    precisions.append(precision)\n",
    "    recalls.append(recall)\n",
    "    f1s.append(f1)\n",
    "    \n",
    "\n",
    "precision = sum(precisions)/len(precisions)\n",
    "recall = sum(recalls)/len(recalls)\n",
    "f1 = sum(f1s)/len(f1s)\n",
    "\n",
    "print(f'avg precision = {precision} avg recall = {recall} avg f1 = {f1}')"
   ]
  },
  {
   "cell_type": "markdown",
   "metadata": {},
   "source": [
    "### Plotting"
   ]
  },
  {
   "cell_type": "code",
   "execution_count": 11,
   "metadata": {},
   "outputs": [
    {
     "data": {
      "image/png": "[encoded data removed]",
      "text/plain": [
       "<Figure size 432x288 with 1 Axes>"
      ]
     },
     "metadata": {
      "needs_background": "light"
     },
     "output_type": "display_data"
    }
   ],
   "source": [
    "a_test = np.ones(len(X_test))*lr.w[0]+np.dot(X_test,lr.w[1:])\n",
    "sns.scatterplot(x=a_test,y=lr.sigmoid(a_test),hue=y_test);\n",
    "\n",
    "#The treshold of 0.5 is not efficient"
   ]
  },
  {
   "cell_type": "markdown",
   "metadata": {},
   "source": [
    "## Tuning of hyperparamter `p`(learning rate), `test_size` and `treshold`"
   ]
  },
  {
   "cell_type": "markdown",
   "metadata": {},
   "source": [
    "### Testing"
   ]
  },
  {
   "cell_type": "code",
   "execution_count": 14,
   "metadata": {},
   "outputs": [
    {
     "ename": "KeyboardInterrupt",
     "evalue": "",
     "output_type": "error",
     "traceback": [
      "\u001b[1;31m---------------------------------------------------------------------------\u001b[0m",
      "\u001b[1;31mKeyboardInterrupt\u001b[0m                         Traceback (most recent call last)",
      "\u001b[1;32m<ipython-input-14-912a6e843a69>\u001b[0m in \u001b[0;36m<module>\u001b[1;34m\u001b[0m\n\u001b[0;32m     35\u001b[0m                 \u001b[0my_test\u001b[0m \u001b[1;33m=\u001b[0m \u001b[0my\u001b[0m\u001b[1;33m.\u001b[0m\u001b[0miloc\u001b[0m\u001b[1;33m[\u001b[0m\u001b[0mtest_index\u001b[0m\u001b[1;33m]\u001b[0m\u001b[1;33m\u001b[0m\u001b[1;33m\u001b[0m\u001b[0m\n\u001b[0;32m     36\u001b[0m \u001b[1;33m\u001b[0m\u001b[0m\n\u001b[1;32m---> 37\u001b[1;33m                 \u001b[0mlr\u001b[0m\u001b[1;33m.\u001b[0m\u001b[0mfit\u001b[0m\u001b[1;33m(\u001b[0m\u001b[0mX_train\u001b[0m\u001b[1;33m,\u001b[0m\u001b[0my_train\u001b[0m\u001b[1;33m)\u001b[0m\u001b[1;33m\u001b[0m\u001b[1;33m\u001b[0m\u001b[0m\n\u001b[0m\u001b[0;32m     38\u001b[0m                 \u001b[0ma_pred\u001b[0m\u001b[1;33m,\u001b[0m\u001b[0my_pred\u001b[0m\u001b[1;33m,\u001b[0m\u001b[0my_pred_class\u001b[0m \u001b[1;33m=\u001b[0m \u001b[0mlr\u001b[0m\u001b[1;33m.\u001b[0m\u001b[0mpredict\u001b[0m\u001b[1;33m(\u001b[0m\u001b[0mX_test\u001b[0m\u001b[1;33m)\u001b[0m\u001b[1;33m\u001b[0m\u001b[1;33m\u001b[0m\u001b[0m\n\u001b[0;32m     39\u001b[0m                 \u001b[0mstats\u001b[0m \u001b[1;33m=\u001b[0m \u001b[0mlr\u001b[0m\u001b[1;33m.\u001b[0m\u001b[0mstats\u001b[0m\u001b[1;33m(\u001b[0m\u001b[0my_test\u001b[0m\u001b[1;33m,\u001b[0m\u001b[0my_pred_class\u001b[0m\u001b[1;33m)\u001b[0m\u001b[1;33m\u001b[0m\u001b[1;33m\u001b[0m\u001b[0m\n",
      "\u001b[1;32m<ipython-input-8-bbc401f703b4>\u001b[0m in \u001b[0;36mfit\u001b[1;34m(self, x, y)\u001b[0m\n\u001b[0;32m     36\u001b[0m             \u001b[1;32mfor\u001b[0m \u001b[0mi\u001b[0m \u001b[1;32min\u001b[0m \u001b[0mrange\u001b[0m\u001b[1;33m(\u001b[0m\u001b[0mn\u001b[0m\u001b[1;33m)\u001b[0m\u001b[1;33m:\u001b[0m\u001b[1;33m\u001b[0m\u001b[1;33m\u001b[0m\u001b[0m\n\u001b[0;32m     37\u001b[0m                 \u001b[0mx_row\u001b[0m \u001b[1;33m=\u001b[0m \u001b[0mx\u001b[0m\u001b[1;33m[\u001b[0m\u001b[0mi\u001b[0m\u001b[1;33m]\u001b[0m\u001b[1;33m\u001b[0m\u001b[1;33m\u001b[0m\u001b[0m\n\u001b[1;32m---> 38\u001b[1;33m                 \u001b[0ma\u001b[0m \u001b[1;33m=\u001b[0m \u001b[0mself\u001b[0m\u001b[1;33m.\u001b[0m\u001b[0ma\u001b[0m\u001b[1;33m(\u001b[0m\u001b[0mx_row\u001b[0m\u001b[1;33m,\u001b[0m\u001b[0mself\u001b[0m\u001b[1;33m.\u001b[0m\u001b[0mw\u001b[0m\u001b[1;33m)\u001b[0m\u001b[1;33m\u001b[0m\u001b[1;33m\u001b[0m\u001b[0m\n\u001b[0m\u001b[0;32m     39\u001b[0m                 \u001b[0my_pred\u001b[0m\u001b[1;33m[\u001b[0m\u001b[0mi\u001b[0m\u001b[1;33m]\u001b[0m \u001b[1;33m=\u001b[0m \u001b[0mself\u001b[0m\u001b[1;33m.\u001b[0m\u001b[0msigmoid\u001b[0m\u001b[1;33m(\u001b[0m\u001b[0ma\u001b[0m\u001b[1;33m)\u001b[0m\u001b[1;33m\u001b[0m\u001b[1;33m\u001b[0m\u001b[0m\n\u001b[0;32m     40\u001b[0m                 \u001b[0mdw\u001b[0m\u001b[1;33m[\u001b[0m\u001b[1;36m1\u001b[0m\u001b[1;33m:\u001b[0m\u001b[1;33m]\u001b[0m \u001b[1;33m=\u001b[0m \u001b[1;33m(\u001b[0m\u001b[0my_pred\u001b[0m\u001b[1;33m[\u001b[0m\u001b[0mi\u001b[0m\u001b[1;33m]\u001b[0m\u001b[1;33m-\u001b[0m\u001b[0my\u001b[0m\u001b[1;33m[\u001b[0m\u001b[0mi\u001b[0m\u001b[1;33m]\u001b[0m\u001b[1;33m)\u001b[0m\u001b[1;33m*\u001b[0m\u001b[0mx_row\u001b[0m\u001b[1;33m\u001b[0m\u001b[1;33m\u001b[0m\u001b[0m\n",
      "\u001b[1;32m<ipython-input-8-bbc401f703b4>\u001b[0m in \u001b[0;36ma\u001b[1;34m(self, x, w)\u001b[0m\n\u001b[0;32m     14\u001b[0m     \u001b[1;32mdef\u001b[0m \u001b[0ma\u001b[0m\u001b[1;33m(\u001b[0m\u001b[0mself\u001b[0m\u001b[1;33m,\u001b[0m\u001b[0mx\u001b[0m\u001b[1;33m,\u001b[0m\u001b[0mw\u001b[0m\u001b[1;33m)\u001b[0m\u001b[1;33m:\u001b[0m\u001b[1;33m\u001b[0m\u001b[1;33m\u001b[0m\u001b[0m\n\u001b[0;32m     15\u001b[0m         \u001b[0ma\u001b[0m \u001b[1;33m=\u001b[0m \u001b[0mw\u001b[0m\u001b[1;33m[\u001b[0m\u001b[1;36m0\u001b[0m\u001b[1;33m]\u001b[0m\u001b[1;33m\u001b[0m\u001b[1;33m\u001b[0m\u001b[0m\n\u001b[1;32m---> 16\u001b[1;33m         \u001b[0ma\u001b[0m \u001b[1;33m+=\u001b[0m \u001b[0mnp\u001b[0m\u001b[1;33m.\u001b[0m\u001b[0mdot\u001b[0m\u001b[1;33m(\u001b[0m\u001b[0mw\u001b[0m\u001b[1;33m[\u001b[0m\u001b[1;36m1\u001b[0m\u001b[1;33m:\u001b[0m\u001b[1;33m]\u001b[0m\u001b[1;33m,\u001b[0m\u001b[0mx\u001b[0m\u001b[1;33m)\u001b[0m\u001b[1;33m\u001b[0m\u001b[1;33m\u001b[0m\u001b[0m\n\u001b[0m\u001b[0;32m     17\u001b[0m \u001b[1;33m\u001b[0m\u001b[0m\n\u001b[0;32m     18\u001b[0m         \u001b[1;32mreturn\u001b[0m \u001b[0ma\u001b[0m\u001b[1;33m\u001b[0m\u001b[1;33m\u001b[0m\u001b[0m\n",
      "\u001b[1;32m<__array_function__ internals>\u001b[0m in \u001b[0;36mdot\u001b[1;34m(*args, **kwargs)\u001b[0m\n",
      "\u001b[1;31mKeyboardInterrupt\u001b[0m: "
     ]
    }
   ],
   "source": [
    "step = 0.01\n",
    "\n",
    "ps_interval = [0.05,0.11]\n",
    "test_sizes_interval = [0.30,0.36]\n",
    "tresholds_interval = [0.40,0.46]\n",
    "\n",
    "ps = np.arange(ps_interval[0],ps_interval[1],step)\n",
    "test_sizes = np.arange(test_sizes_interval[0],test_sizes_interval[1],step)\n",
    "tresholds = np.arange(tresholds_interval[0],tresholds_interval[1],step)\n",
    "\n",
    "n_splits = 10\n",
    "\n",
    "data=[]#stores (p,test_size,tresholdf,f1_score of that setup)\n",
    "count = 1\n",
    "\n",
    "for p in ps:\n",
    "    for test_size in test_sizes:\n",
    "        for treshold in tresholds:\n",
    "\n",
    "            sss = StratifiedShuffleSplit(n_splits=n_splits, \n",
    "                                         test_size=test_size, \n",
    "                                         random_state=42)\n",
    "\n",
    "            X = titanic.drop(['survived'],axis=1)\n",
    "            y = titanic['survived']\n",
    "\n",
    "            lr = logistic_regression(50,p,1e-7,treshold)\n",
    "            f1_scores = []\n",
    "\n",
    "            for train_index, test_index in sss.split(X, y):\n",
    "                X_train = X.iloc[train_index]\n",
    "                y_train = y.iloc[train_index]\n",
    "\n",
    "                X_test = X.iloc[test_index]\n",
    "                y_test = y.iloc[test_index]\n",
    "\n",
    "                lr.fit(X_train,y_train)\n",
    "                a_pred,y_pred,y_pred_class = lr.predict(X_test)\n",
    "                stats = lr.stats(y_test,y_pred_class)\n",
    "                f1_scores.append(stats[2])\n",
    "\n",
    "            f1_score = round(sum(f1_scores)/len(f1_scores),4)\n",
    "            data.append((p,test_size,treshold,f1_score))\n",
    "            print(f' Experiment #{count} of {len(ps)*len(test_sizes)*len(tresholds)}: f1={f1_score} for p={round(p,2)}, test size={round(test_size,2)}, treshold={round(treshold,2)}')\n",
    "            count += 1\n"
   ]
  },
  {
   "cell_type": "markdown",
   "metadata": {},
   "source": [
    "### Plotting results"
   ]
  },
  {
   "cell_type": "code",
   "execution_count": null,
   "metadata": {},
   "outputs": [],
   "source": [
    "\n",
    "fig = plt.figure(figsize=(6,6))\n",
    "\n",
    "ax = Axes3D(fig) # Method 1\n",
    "\n",
    "# ax = fig.add_subplot(111, projection='3d') # Method 2\n",
    "ps = []\n",
    "test_sizes = []\n",
    "tresholds = []\n",
    "f1_scores = []\n",
    "best = [0,0,0,0]\n",
    "for p,test_size,treshold,f1_score in data:\n",
    "    ps.append(p)\n",
    "    test_sizes.append(test_size)\n",
    "    tresholds.append(treshold)\n",
    "    f1_scores.append(f1_score)\n",
    "    if f1_score > best[3]:\n",
    "        best = [p,test_size,treshold,f1_score]\n",
    "\n",
    "p,test_size,treshold,f1_score = best\n",
    "print(f'Best f1={f1_score} for p={round(p,2)}, test size={round(test_size,2)}, treshold={round(treshold,2)}')\n",
    "\n",
    "g = ax.scatter(ps, test_sizes, tresholds, c=f1_scores)\n",
    "legend = ax.legend(*g.legend_elements(), loc=\"upper right\", title=\"f1 score\", borderaxespad=-10, ncol=4)\n",
    "ax.add_artist(legend)\n",
    "ax.set_xlabel('p')\n",
    "ax.set_ylabel('test size')\n",
    "ax.set_zlabel('treshold')\n",
    "plt.show()"
   ]
  },
  {
   "cell_type": "markdown",
   "metadata": {},
   "source": [
    "## Comparing prediction from sklearn model"
   ]
  },
  {
   "cell_type": "code",
   "execution_count": null,
   "metadata": {},
   "outputs": [],
   "source": [
    "\n",
    "n_splits = 10\n",
    "sss = StratifiedShuffleSplit(n_splits=n_splits,\n",
    "                             test_size=test_size, \n",
    "                             random_state=42)\n",
    "\n",
    "X = titanic.drop(['survived'],axis=1)\n",
    "y = titanic['survived']\n",
    "f1_scores = []\n",
    "\n",
    "for train_index, test_index in sss.split(X, y):\n",
    "    X_train = X.iloc[train_index]\n",
    "    y_train = y.iloc[train_index]\n",
    "\n",
    "    X_test = X.iloc[test_index]\n",
    "    y_test = y.iloc[test_index]\n",
    "    \n",
    "    lr_model = LogisticRegression(solver='liblinear',random_state=42)\n",
    "    lr_model.fit(X_train,y_train)\n",
    "    y_pred = lr_model.predict(X_test)\n",
    "    f1 = f1s(y_test, y_pred, average='macro')\n",
    "    f1_scores.append(f1)\n",
    "\n",
    "f1_score = round(sum(f1_scores)/len(f1_scores),4)\n",
    "print(f'f1={f1_score} for p={round(p,2)}, test size={round(test_size,2)}, treshold={round(treshold,2)}')"
   ]
  },
  {
   "cell_type": "code",
   "execution_count": 13,
   "metadata": {},
   "outputs": [
    {
     "data": {
      "text/html": [
       "<div>\n",
       "<style scoped>\n",
       "    .dataframe tbody tr th:only-of-type {\n",
       "        vertical-align: middle;\n",
       "    }\n",
       "\n",
       "    .dataframe tbody tr th {\n",
       "        vertical-align: top;\n",
       "    }\n",
       "\n",
       "    .dataframe thead th {\n",
       "        text-align: right;\n",
       "    }\n",
       "</style>\n",
       "<table border=\"1\" class=\"dataframe\">\n",
       "  <thead>\n",
       "    <tr style=\"text-align: right;\">\n",
       "      <th></th>\n",
       "      <th>survived</th>\n",
       "      <th>pclass</th>\n",
       "      <th>sex</th>\n",
       "      <th>age</th>\n",
       "      <th>sibsp</th>\n",
       "      <th>parch</th>\n",
       "      <th>fare</th>\n",
       "      <th>embarked</th>\n",
       "      <th>class</th>\n",
       "      <th>who</th>\n",
       "      <th>adult_male</th>\n",
       "      <th>deck</th>\n",
       "      <th>embark_town</th>\n",
       "      <th>alive</th>\n",
       "      <th>alone</th>\n",
       "    </tr>\n",
       "  </thead>\n",
       "  <tbody>\n",
       "    <tr>\n",
       "      <th>0</th>\n",
       "      <td>0</td>\n",
       "      <td>3</td>\n",
       "      <td>male</td>\n",
       "      <td>22.0</td>\n",
       "      <td>1</td>\n",
       "      <td>0</td>\n",
       "      <td>7.2500</td>\n",
       "      <td>S</td>\n",
       "      <td>Third</td>\n",
       "      <td>man</td>\n",
       "      <td>True</td>\n",
       "      <td>NaN</td>\n",
       "      <td>Southampton</td>\n",
       "      <td>no</td>\n",
       "      <td>False</td>\n",
       "    </tr>\n",
       "    <tr>\n",
       "      <th>1</th>\n",
       "      <td>1</td>\n",
       "      <td>1</td>\n",
       "      <td>female</td>\n",
       "      <td>38.0</td>\n",
       "      <td>1</td>\n",
       "      <td>0</td>\n",
       "      <td>71.2833</td>\n",
       "      <td>C</td>\n",
       "      <td>First</td>\n",
       "      <td>woman</td>\n",
       "      <td>False</td>\n",
       "      <td>C</td>\n",
       "      <td>Cherbourg</td>\n",
       "      <td>yes</td>\n",
       "      <td>False</td>\n",
       "    </tr>\n",
       "    <tr>\n",
       "      <th>2</th>\n",
       "      <td>1</td>\n",
       "      <td>3</td>\n",
       "      <td>female</td>\n",
       "      <td>26.0</td>\n",
       "      <td>0</td>\n",
       "      <td>0</td>\n",
       "      <td>7.9250</td>\n",
       "      <td>S</td>\n",
       "      <td>Third</td>\n",
       "      <td>woman</td>\n",
       "      <td>False</td>\n",
       "      <td>NaN</td>\n",
       "      <td>Southampton</td>\n",
       "      <td>yes</td>\n",
       "      <td>True</td>\n",
       "    </tr>\n",
       "    <tr>\n",
       "      <th>3</th>\n",
       "      <td>1</td>\n",
       "      <td>1</td>\n",
       "      <td>female</td>\n",
       "      <td>35.0</td>\n",
       "      <td>1</td>\n",
       "      <td>0</td>\n",
       "      <td>53.1000</td>\n",
       "      <td>S</td>\n",
       "      <td>First</td>\n",
       "      <td>woman</td>\n",
       "      <td>False</td>\n",
       "      <td>C</td>\n",
       "      <td>Southampton</td>\n",
       "      <td>yes</td>\n",
       "      <td>False</td>\n",
       "    </tr>\n",
       "    <tr>\n",
       "      <th>4</th>\n",
       "      <td>0</td>\n",
       "      <td>3</td>\n",
       "      <td>male</td>\n",
       "      <td>35.0</td>\n",
       "      <td>0</td>\n",
       "      <td>0</td>\n",
       "      <td>8.0500</td>\n",
       "      <td>S</td>\n",
       "      <td>Third</td>\n",
       "      <td>man</td>\n",
       "      <td>True</td>\n",
       "      <td>NaN</td>\n",
       "      <td>Southampton</td>\n",
       "      <td>no</td>\n",
       "      <td>True</td>\n",
       "    </tr>\n",
       "    <tr>\n",
       "      <th>...</th>\n",
       "      <td>...</td>\n",
       "      <td>...</td>\n",
       "      <td>...</td>\n",
       "      <td>...</td>\n",
       "      <td>...</td>\n",
       "      <td>...</td>\n",
       "      <td>...</td>\n",
       "      <td>...</td>\n",
       "      <td>...</td>\n",
       "      <td>...</td>\n",
       "      <td>...</td>\n",
       "      <td>...</td>\n",
       "      <td>...</td>\n",
       "      <td>...</td>\n",
       "      <td>...</td>\n",
       "    </tr>\n",
       "    <tr>\n",
       "      <th>886</th>\n",
       "      <td>0</td>\n",
       "      <td>2</td>\n",
       "      <td>male</td>\n",
       "      <td>27.0</td>\n",
       "      <td>0</td>\n",
       "      <td>0</td>\n",
       "      <td>13.0000</td>\n",
       "      <td>S</td>\n",
       "      <td>Second</td>\n",
       "      <td>man</td>\n",
       "      <td>True</td>\n",
       "      <td>NaN</td>\n",
       "      <td>Southampton</td>\n",
       "      <td>no</td>\n",
       "      <td>True</td>\n",
       "    </tr>\n",
       "    <tr>\n",
       "      <th>887</th>\n",
       "      <td>1</td>\n",
       "      <td>1</td>\n",
       "      <td>female</td>\n",
       "      <td>19.0</td>\n",
       "      <td>0</td>\n",
       "      <td>0</td>\n",
       "      <td>30.0000</td>\n",
       "      <td>S</td>\n",
       "      <td>First</td>\n",
       "      <td>woman</td>\n",
       "      <td>False</td>\n",
       "      <td>B</td>\n",
       "      <td>Southampton</td>\n",
       "      <td>yes</td>\n",
       "      <td>True</td>\n",
       "    </tr>\n",
       "    <tr>\n",
       "      <th>888</th>\n",
       "      <td>0</td>\n",
       "      <td>3</td>\n",
       "      <td>female</td>\n",
       "      <td>NaN</td>\n",
       "      <td>1</td>\n",
       "      <td>2</td>\n",
       "      <td>23.4500</td>\n",
       "      <td>S</td>\n",
       "      <td>Third</td>\n",
       "      <td>woman</td>\n",
       "      <td>False</td>\n",
       "      <td>NaN</td>\n",
       "      <td>Southampton</td>\n",
       "      <td>no</td>\n",
       "      <td>False</td>\n",
       "    </tr>\n",
       "    <tr>\n",
       "      <th>889</th>\n",
       "      <td>1</td>\n",
       "      <td>1</td>\n",
       "      <td>male</td>\n",
       "      <td>26.0</td>\n",
       "      <td>0</td>\n",
       "      <td>0</td>\n",
       "      <td>30.0000</td>\n",
       "      <td>C</td>\n",
       "      <td>First</td>\n",
       "      <td>man</td>\n",
       "      <td>True</td>\n",
       "      <td>C</td>\n",
       "      <td>Cherbourg</td>\n",
       "      <td>yes</td>\n",
       "      <td>True</td>\n",
       "    </tr>\n",
       "    <tr>\n",
       "      <th>890</th>\n",
       "      <td>0</td>\n",
       "      <td>3</td>\n",
       "      <td>male</td>\n",
       "      <td>32.0</td>\n",
       "      <td>0</td>\n",
       "      <td>0</td>\n",
       "      <td>7.7500</td>\n",
       "      <td>Q</td>\n",
       "      <td>Third</td>\n",
       "      <td>man</td>\n",
       "      <td>True</td>\n",
       "      <td>NaN</td>\n",
       "      <td>Queenstown</td>\n",
       "      <td>no</td>\n",
       "      <td>True</td>\n",
       "    </tr>\n",
       "  </tbody>\n",
       "</table>\n",
       "<p>891 rows × 15 columns</p>\n",
       "</div>"
      ],
      "text/plain": [
       "     survived  pclass     sex   age  sibsp  parch     fare embarked   class  \\\n",
       "0           0       3    male  22.0      1      0   7.2500        S   Third   \n",
       "1           1       1  female  38.0      1      0  71.2833        C   First   \n",
       "2           1       3  female  26.0      0      0   7.9250        S   Third   \n",
       "3           1       1  female  35.0      1      0  53.1000        S   First   \n",
       "4           0       3    male  35.0      0      0   8.0500        S   Third   \n",
       "..        ...     ...     ...   ...    ...    ...      ...      ...     ...   \n",
       "886         0       2    male  27.0      0      0  13.0000        S  Second   \n",
       "887         1       1  female  19.0      0      0  30.0000        S   First   \n",
       "888         0       3  female   NaN      1      2  23.4500        S   Third   \n",
       "889         1       1    male  26.0      0      0  30.0000        C   First   \n",
       "890         0       3    male  32.0      0      0   7.7500        Q   Third   \n",
       "\n",
       "       who  adult_male deck  embark_town alive  alone  \n",
       "0      man        True  NaN  Southampton    no  False  \n",
       "1    woman       False    C    Cherbourg   yes  False  \n",
       "2    woman       False  NaN  Southampton   yes   True  \n",
       "3    woman       False    C  Southampton   yes  False  \n",
       "4      man        True  NaN  Southampton    no   True  \n",
       "..     ...         ...  ...          ...   ...    ...  \n",
       "886    man        True  NaN  Southampton    no   True  \n",
       "887  woman       False    B  Southampton   yes   True  \n",
       "888  woman       False  NaN  Southampton    no  False  \n",
       "889    man        True    C    Cherbourg   yes   True  \n",
       "890    man        True  NaN   Queenstown    no   True  \n",
       "\n",
       "[891 rows x 15 columns]"
      ]
     },
     "execution_count": 13,
     "metadata": {},
     "output_type": "execute_result"
    }
   ],
   "source": [
    "pd.DataFrame(sns.load_dataset('titanic'))"
   ]
  },
  {
   "cell_type": "markdown",
   "metadata": {},
   "source": [
    "## Predict chance of user to survive"
   ]
  },
  {
   "cell_type": "code",
   "execution_count": 21,
   "metadata": {},
   "outputs": [
    {
     "name": "stdout",
     "output_type": "stream",
     "text": [
      "Classe (1,2,3): 3\n",
      "Sexo (m/f): f\n",
      "Idade: 21\n",
      "Quantos irmãos abordo? 2\n",
      "Quantos pais abordo? 1\n",
      "Valor da passagem: 3000\n",
      "É adulto?(s/n) n\n",
      "Está sozinho?(s/n)n\n",
      "[3.0, 1, 21.0, 2.0, 1.0, 3000.0, 0.0, 0.0]\n",
      "Você morreu. \n"
     ]
    }
   ],
   "source": [
    "classe = float(input('Classe (1,2,3): '))\n",
    "sexo = input('Sexo (m/f): ').lower()\n",
    "if sexo == 'm':sexo = 0\n",
    "else: sexo = 1\n",
    "idade = float(input('Idade: '))\n",
    "irmaos = float(input('Quantos irmãos abordo? '))\n",
    "pais = float(input('Quantos pais abordo? '))\n",
    "passagem = float(input('Valor da passagem: '))\n",
    "adulto = input('É homem adulto?(s/n) ').lower()\n",
    "if adulto=='s':adulto = 1.\n",
    "else: adulto = 0.\n",
    "sozinho = input('Está sozinho?(s/n)').lower()\n",
    "if sozinho == 's':sozinho=1.\n",
    "else: sozinho = 0.\n",
    "x=[classe,sexo,idade,irmaos,pais,passagem,adulto,sozinho]\n",
    "print(x)\n",
    "\n",
    "titanic=pd.DataFrame(sns.load_dataset('titanic'))\n",
    "titanic.drop(['survived','class','who', 'deck','embark_town','alive','embarked'],axis=1,inplace=True)\n",
    "titanic.loc[len(titanic)]=x\n",
    "titanic['sex']=titanic['sex'].apply(lambda x: 1 if (x=='female') else 0)\n",
    "titanic['age'] = titanic['age'].fillna(value=round(titanic['age'].mean()))\n",
    "titanic = titanic.astype(float)\n",
    "titanic['age'] = normalize(titanic['age'])\n",
    "titanic['fare'] = normalize(titanic['fare'])\n",
    "\n",
    "pred = lr.predict(np.array(titanic.loc[len(titanic)-1]).reshape(1,8))\n",
    "if pred[2][0]:\n",
    "    print('Você sobreviveu. ')\n",
    "else: \n",
    "    print('Você morreu. ')"
   ]
  },
  {
   "cell_type": "code",
   "execution_count": null,
   "metadata": {},
   "outputs": [],
   "source": []
  }
 ],
 "metadata": {
  "kernelspec": {
   "display_name": "Python 3.6.7 64-bit",
   "language": "python",
   "name": "python36764bitae56fdbcc1594148b699def9b739fd1e"
  },
  "language_info": {
   "codemirror_mode": {
    "name": "ipython",
    "version": 3
   },
   "file_extension": ".py",
   "mimetype": "text/x-python",
   "name": "python",
   "nbconvert_exporter": "python",
   "pygments_lexer": "ipython3",
   "version": "3.6.7"
  }
 },
 "nbformat": 4,
 "nbformat_minor": 2
}
