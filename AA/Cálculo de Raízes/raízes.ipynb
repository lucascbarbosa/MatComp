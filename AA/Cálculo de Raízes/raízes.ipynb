{
 "cells": [
  {
   "cell_type": "code",
   "execution_count": 63,
   "metadata": {},
   "outputs": [],
   "source": [
    "import numpy as np\n",
    "\n",
    "#b²+4a = k²q\n",
    "def calcular_pesos(k,q):\n",
    "    achou = False\n",
    "    for i in range(100):\n",
    "        for j in range(100):\n",
    "            if j**2+4*i == (k**2)*q:\n",
    "                return [i,j]\n",
    "        \n",
    "def calcular_elementos(x,pesos,s):\n",
    "    size = len(pesos)\n",
    "    if len(x) > size:\n",
    "        x = x[:size]\n",
    "    elif len(x) < size:\n",
    "        for i in range(size-len(x)):\n",
    "            x.append(int(input('Falta %d números'%(size-len(x)))))\n",
    "        \n",
    "    for i in range(s):\n",
    "        clones = x[1:]\n",
    "        x[-1] = sum([a*b for a,b in zip(x,pesos)])\n",
    "        for j in range(len(clones)):\n",
    "            x[j] = clones[j]\n",
    "    \n",
    "    return x\n",
    "\n",
    "def calcula_k(pesos,q):\n",
    "    valor = float((pesos[1]**2+4*pesos[0])/q)\n",
    "    i = 1\n",
    "    soma = 0\n",
    "    achou = False\n",
    "    while not achou: \n",
    "        achou = (soma == valor)\n",
    "        if achou:\n",
    "            break\n",
    "        else:\n",
    "            \n",
    "            soma += i\n",
    "            i += 2\n",
    "    return i//2"
   ]
  },
  {
   "cell_type": "code",
   "execution_count": 68,
   "metadata": {},
   "outputs": [
    {
     "data": {
      "text/plain": [
       "1.4142136248948698"
      ]
     },
     "execution_count": 68,
     "metadata": {},
     "output_type": "execute_result"
    }
   ],
   "source": [
    "x = [0,1]\n",
    "q = 2\n",
    "k = 2\n",
    "pesos = calcular_pesos(2,2)\n",
    "x = calcular_elementos(x,pesos,10)\n",
    "r = x[1]/x[0]\n",
    "raiz = (r*2*pesos[0]-pesos[1])/k\n",
    "raiz"
   ]
  }
 ],
 "metadata": {
  "kernelspec": {
   "display_name": "Python 3.6.7 64-bit",
   "language": "python",
   "name": "python36764bitae56fdbcc1594148b699def9b739fd1e"
  },
  "language_info": {
   "codemirror_mode": {
    "name": "ipython",
    "version": 3
   },
   "file_extension": ".py",
   "mimetype": "text/x-python",
   "name": "python",
   "nbconvert_exporter": "python",
   "pygments_lexer": "ipython3",
   "version": "3.6.7"
  }
 },
 "nbformat": 4,
 "nbformat_minor": 2
}
