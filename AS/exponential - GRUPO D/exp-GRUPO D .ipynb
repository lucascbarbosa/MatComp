{
 "cells": [
  {
   "cell_type": "code",
   "execution_count": 66,
   "metadata": {},
   "outputs": [],
   "source": [
    "#GRUPO D\n",
    "# Lucas Costa Barbosa\n",
    "# Mileny Martins Loyolla\n",
    "# Pedro Lobato Dias\n",
    "# Pedro Henrique Fernandes Teles\n",
    "#\tPedro Henrique Ferreira Dionisio\n",
    "\n",
    "import pandas as pd\n",
    "def exponential(x,s):\n",
    "  sum = 0 #soma total parcelas\n",
    "  fact = 1 #armazena o valor do fatorial\n",
    "  for i in range(s+1): #itera de 0 a s\n",
    "    sum+=x**i/fact #calcula a parcela x^n/n! e soma ao valor total\n",
    "    fact*=(i+1) #calcula o próximo fatorial\n",
    "  \n",
    "  return round(sum,8) #retorna o somatorio arredondado em 8 casas\n",
    "\n",
    "df = pd.read_html('tabela.html')[0].round(8)\n",
    "df['Expected'] = df['Expected'].apply(lambda x: x.split(' ')[-1])\n",
    "df = df.drop(['Unnamed: 2','Unnamed: 3'],axis=1)\n",
    "df = df.drop(8)\n",
    "df['Expected'] = df['Expected'].astype(float).round(6)\n",
    "df.to_excel('tabela.xlsx')"
   ]
  }
 ],
 "metadata": {
  "kernelspec": {
   "display_name": "Python 3.6.7 64-bit",
   "language": "python",
   "name": "python36764bitae56fdbcc1594148b699def9b739fd1e"
  },
  "language_info": {
   "codemirror_mode": {
    "name": "ipython",
    "version": 3
   },
   "file_extension": ".py",
   "mimetype": "text/x-python",
   "name": "python",
   "nbconvert_exporter": "python",
   "pygments_lexer": "ipython3",
   "version": "3.6.7"
  }
 },
 "nbformat": 4,
 "nbformat_minor": 2
}
